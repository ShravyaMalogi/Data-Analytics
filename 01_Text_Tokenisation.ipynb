{
  "nbformat": 4,
  "nbformat_minor": 0,
  "metadata": {
    "colab": {
      "provenance": [],
      "authorship_tag": "ABX9TyMKIsGWAd4JOVZr3Wkc9XxG"
    },
    "kernelspec": {
      "name": "python3",
      "display_name": "Python 3"
    },
    "language_info": {
      "name": "python"
    }
  },
  "cells": [
    {
      "cell_type": "code",
      "source": [
        "!pip install nltk"
      ],
      "metadata": {
        "colab": {
          "base_uri": "https://localhost:8080/"
        },
        "id": "L_rofx_2wDx8",
        "outputId": "9bbeae38-5bd1-4ad0-c3cb-442828780ca7"
      },
      "execution_count": null,
      "outputs": [
        {
          "output_type": "stream",
          "name": "stdout",
          "text": [
            "Requirement already satisfied: nltk in /usr/local/lib/python3.11/dist-packages (3.9.1)\n",
            "Requirement already satisfied: click in /usr/local/lib/python3.11/dist-packages (from nltk) (8.1.8)\n",
            "Requirement already satisfied: joblib in /usr/local/lib/python3.11/dist-packages (from nltk) (1.4.2)\n",
            "Requirement already satisfied: regex>=2021.8.3 in /usr/local/lib/python3.11/dist-packages (from nltk) (2024.11.6)\n",
            "Requirement already satisfied: tqdm in /usr/local/lib/python3.11/dist-packages (from nltk) (4.67.1)\n"
          ]
        }
      ]
    },
    {
      "cell_type": "code",
      "source": [
        "import nltk\n",
        "nltk.download('punkt_tab')"
      ],
      "metadata": {
        "colab": {
          "base_uri": "https://localhost:8080/"
        },
        "id": "7wbMgrDPy2e7",
        "outputId": "cc14fe64-0cec-46e6-aa7c-22c43dcb7c4a"
      },
      "execution_count": null,
      "outputs": [
        {
          "output_type": "stream",
          "name": "stderr",
          "text": [
            "[nltk_data] Downloading package punkt_tab to /root/nltk_data...\n",
            "[nltk_data]   Package punkt_tab is already up-to-date!\n"
          ]
        },
        {
          "output_type": "execute_result",
          "data": {
            "text/plain": [
              "True"
            ]
          },
          "metadata": {},
          "execution_count": 12
        }
      ]
    },
    {
      "cell_type": "code",
      "source": [
        "from nltk.tokenize import word_tokenize, sent_tokenize"
      ],
      "metadata": {
        "id": "bnQvD1QmvHoj"
      },
      "execution_count": null,
      "outputs": []
    },
    {
      "cell_type": "code",
      "source": [
        "text=\"\"\"\n",
        "Tokenization is the process of breaking text into smaller units like words or sentences.\n",
        "This is one o the fundamental steps in natural language processing (NLP).\n",
        "\"\"\"\n",
        "\n",
        "sentences=sent_tokenize(text)\n",
        "print(\"Sentences Tokenization:\")\n",
        "\n",
        "for sentence in sentences:\n",
        "  print(sentence)\n",
        "\n",
        "words=word_tokenize(text)\n",
        "print(\"\\nWords Tokenization:\")\n",
        "print(words)"
      ],
      "metadata": {
        "colab": {
          "base_uri": "https://localhost:8080/"
        },
        "id": "3LEudOo_vN7L",
        "outputId": "b4b44a20-eec2-4470-f7cd-12b12f65383f"
      },
      "execution_count": null,
      "outputs": [
        {
          "output_type": "stream",
          "name": "stdout",
          "text": [
            "Sentences Tokenization:\n",
            "\n",
            "Tokenization is the process of breaking text into smaller units like words or sentences.\n",
            "This is one o the fundamental steps in natural language processing (NLP).\n",
            "\n",
            "Words Tokenization:\n",
            "['Tokenization', 'is', 'the', 'process', 'of', 'breaking', 'text', 'into', 'smaller', 'units', 'like', 'words', 'or', 'sentences', '.', 'This', 'is', 'one', 'o', 'the', 'fundamental', 'steps', 'in', 'natural', 'language', 'processing', '(', 'NLP', ')', '.']\n"
          ]
        }
      ]
    }
  ]
}