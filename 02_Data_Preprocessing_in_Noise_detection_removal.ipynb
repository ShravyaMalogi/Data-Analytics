{
  "nbformat": 4,
  "nbformat_minor": 0,
  "metadata": {
    "colab": {
      "provenance": [],
      "authorship_tag": "ABX9TyMgLctuZNGFkf4O5eCbXRF4",
      "include_colab_link": true
    },
    "kernelspec": {
      "name": "python3",
      "display_name": "Python 3"
    },
    "language_info": {
      "name": "python"
    }
  },
  "cells": [
    {
      "cell_type": "markdown",
      "metadata": {
        "id": "view-in-github",
        "colab_type": "text"
      },
      "source": [
        "<a href=\"https://colab.research.google.com/github/ShravyaMalogi/Data-Analytics/blob/main/02_Data_Preprocessing_in_Noise_detection_removal.ipynb\" target=\"_parent\"><img src=\"https://colab.research.google.com/assets/colab-badge.svg\" alt=\"Open In Colab\"/></a>"
      ]
    },
    {
      "cell_type": "code",
      "source": [
        "import pandas as pd\n",
        "import numpy as np\n",
        "from scipy import stats\n",
        "import matplotlib.pyplot as plt\n",
        "\n",
        "# Step 1: Create a sample dataframe with noisy data (outliers)\n",
        "data = {\n",
        " 'age': [25, 27, 28, 30, 22, 100, 29, 30, 32, 500], # 500 is an outlier\n",
        " 'salary': [50000, 60000, 55000, 70000, 48000, 300000, 60000, 65000,70000, 1000000], # 1000000 is an outlier\n",
        " 'experience': [2, 3, 2, 4, 1, 20, 2, 3, 4, 25], # 25 is an outlier\n",
        "}\n",
        "\n",
        "df = pd.DataFrame(data)\n",
        "\n",
        "# Display the original dataframe\n",
        "print(\"Original DataFrame with Noisy Data:\")\n",
        "print(df)\n",
        "\n",
        "# Step 2: Detecting Outliers using Z-score\n",
        "# Z-score measures how many standard deviations a point is from the mean\n",
        "z_scores = np.abs(stats.zscore(df)) # Compute Z-scores for each column\n",
        "\n",
        "# Step 3: Set a threshold for the Z-score (usually > 3 indicates an outlier)\n",
        "threshold = 3\n",
        "\n",
        "# Step 4: Remove rows where any feature has a Z-score greater than the threshold\n",
        "df_cleaned = df[(z_scores < threshold).all(axis=1)]\n",
        "\n",
        "# Display the cleaned dataframe\n",
        "print(\"\\nDataFrame after Removing Noisy Data (Outliers):\")\n",
        "print(df_cleaned)\n",
        "\n",
        "# Step 5: Visualize the data before and after cleaning\n",
        "fig, axs = plt.subplots(1, 2, figsize=(14, 6))\n",
        "\n",
        "# Original data visualization\n",
        "axs[0].scatter(df['age'], df['salary'], color='red')\n",
        "axs[0].set_title('Original Data')\n",
        "axs[0].set_xlabel('Age')\n",
        "axs[0].set_ylabel('Salary')\n",
        "\n",
        "# Cleaned data visualization\n",
        "axs[1].scatter(df_cleaned['age'], df_cleaned['salary'], color='blue')\n",
        "axs[1].set_title('Cleaned Data')\n",
        "axs[1].set_xlabel('Age')\n",
        "axs[1].set_ylabel('Salary')\n",
        "plt.tight_layout()\n",
        "plt.show()\n",
        "\n",
        "# Step 6: Check if there are any remaining outliers in the cleaned data\n",
        "z_scores_cleaned = np.abs(stats.zscore(df_cleaned))\n",
        "print(\"\\nZ-scores for the cleaned data:\")\n",
        "print(z_scores_cleaned)\n",
        "\n",
        "print(\"\\nRemaining outliers after cleaning (if any):\")\n",
        "print(df_cleaned[(z_scores_cleaned > threshold).any(axis=1)])"
      ],
      "metadata": {
        "colab": {
          "base_uri": "https://localhost:8080/",
          "height": 1000
        },
        "id": "Mo39YeoKMS4y",
        "outputId": "0bb29cd6-32c4-49b4-8e38-312868c48ae3"
      },
      "execution_count": 3,
      "outputs": [
        {
          "output_type": "stream",
          "name": "stdout",
          "text": [
            "Original DataFrame with Noisy Data:\n",
            "   age   salary  experience\n",
            "0   25    50000           2\n",
            "1   27    60000           3\n",
            "2   28    55000           2\n",
            "3   30    70000           4\n",
            "4   22    48000           1\n",
            "5  100   300000          20\n",
            "6   29    60000           2\n",
            "7   30    65000           3\n",
            "8   32    70000           4\n",
            "9  500  1000000          25\n",
            "\n",
            "DataFrame after Removing Noisy Data (Outliers):\n",
            "   age   salary  experience\n",
            "0   25    50000           2\n",
            "1   27    60000           3\n",
            "2   28    55000           2\n",
            "3   30    70000           4\n",
            "4   22    48000           1\n",
            "5  100   300000          20\n",
            "6   29    60000           2\n",
            "7   30    65000           3\n",
            "8   32    70000           4\n",
            "9  500  1000000          25\n"
          ]
        },
        {
          "output_type": "display_data",
          "data": {
            "text/plain": [
              "<Figure size 1400x600 with 2 Axes>"
            ],
            "image/png": "[encoded data removed]"
          },
          "metadata": {}
        },
        {
          "output_type": "stream",
          "name": "stdout",
          "text": [
            "\n",
            "Z-scores for the cleaned data:\n",
            "        age    salary  experience\n",
            "0  0.406645  0.451017    0.569509\n",
            "1  0.392451  0.415726    0.445703\n",
            "2  0.385354  0.433372    0.569509\n",
            "3  0.371161  0.380436    0.321897\n",
            "4  0.427935  0.458075    0.693316\n",
            "5  0.125613  0.431254    1.659005\n",
            "6  0.378258  0.415726    0.569509\n",
            "7  0.371161  0.398081    0.445703\n",
            "8  0.356967  0.380436    0.321897\n",
            "9  2.964320  2.901615    2.278037\n",
            "\n",
            "Remaining outliers after cleaning (if any):\n",
            "Empty DataFrame\n",
            "Columns: [age, salary, experience]\n",
            "Index: []\n"
          ]
        }
      ]
    }
  ]
}