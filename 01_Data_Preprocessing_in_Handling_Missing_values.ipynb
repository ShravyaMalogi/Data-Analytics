{
  "nbformat": 4,
  "nbformat_minor": 0,
  "metadata": {
    "colab": {
      "provenance": [],
      "authorship_tag": "ABX9TyNPYi8piq0Q/Ts1y7+WJvzs",
      "include_colab_link": true
    },
    "kernelspec": {
      "name": "python3",
      "display_name": "Python 3"
    },
    "language_info": {
      "name": "python"
    }
  },
  "cells": [
    {
      "cell_type": "markdown",
      "metadata": {
        "id": "view-in-github",
        "colab_type": "text"
      },
      "source": [
        "<a href=\"https://colab.research.google.com/github/ShravyaMalogi/Data-Analytics/blob/main/01_Data_Preprocessing_in_Handling_Missing_values.ipynb\" target=\"_parent\"><img src=\"https://colab.research.google.com/assets/colab-badge.svg\" alt=\"Open In Colab\"/></a>"
      ]
    },
    {
      "cell_type": "code",
      "execution_count": 2,
      "metadata": {
        "colab": {
          "base_uri": "https://localhost:8080/"
        },
        "id": "FTq62l_CBk3n",
        "outputId": "110b7366-afeb-43ee-cdf7-c71da02571a0"
      },
      "outputs": [
        {
          "output_type": "stream",
          "name": "stdout",
          "text": [
            "Original Dataframe with Missing Values:\n",
            "    age   salary           city  gender\n",
            "0  25.0  50000.0       New York    Male\n",
            "1   NaN  60000.0    Los Angeles  Female\n",
            "2  30.0      NaN        Chicago    Male\n",
            "3  35.0  80000.0            NaN  Female\n",
            "4   NaN  95000.0  San Francisco    Male\n",
            "\n",
            "Missing Values in the DataFrame:\n",
            "age       2\n",
            "salary    1\n",
            "city      1\n",
            "gender    0\n",
            "dtype: int64\n",
            "\n",
            "DataFrame after Handling Missing Values:\n",
            "    age   salary           city  gender\n",
            "0  25.0  50000.0       New York    Male\n",
            "1  30.0  60000.0    Los Angeles  Female\n",
            "2  30.0  70000.0        Chicago    Male\n",
            "3  35.0  80000.0        Chicago  Female\n",
            "4  30.0  95000.0  San Francisco    Male\n",
            "\n",
            "Missing Values after Handling:\n",
            "age       0\n",
            "salary    0\n",
            "city      0\n",
            "gender    0\n",
            "dtype: int64\n"
          ]
        }
      ],
      "source": [
        "import pandas as pd\n",
        "import numpy as np\n",
        "\n",
        "# Step 1: Create a sample dataframe with missing values\n",
        "data = {\n",
        "  'age': [25, np.nan, 30, 35, np.nan],\n",
        "  'salary': [50000, 60000, np.nan, 80000, 95000],\n",
        "  'city': ['New York', 'Los Angeles', 'Chicago', np.nan, 'San Francisco'],\n",
        "  'gender': ['Male', 'Female', 'Male', 'Female', 'Male']\n",
        "}\n",
        "\n",
        "df = pd.DataFrame(data)\n",
        "\n",
        "# Display the original dataframe\n",
        "print(\"Original Dataframe with Missing Values:\")\n",
        "print(df)\n",
        "\n",
        "# Step 2: Identifying Missing Values\n",
        "# Check for missing values in the dataset\n",
        "print(\"\\nMissing Values in the DataFrame:\")\n",
        "print(df.isnull().sum())\n",
        "\n",
        "# Step 3: Handle Missing Values\n",
        "# 3.1: Filling Missing Values (with mean, median, or mode)\n",
        "# Fill missing values in 'age' column with the mean\n",
        "df['age'] = df['age'].fillna(df['age'].mean())\n",
        "\n",
        "# Fill missing values in 'salary' column with the median\n",
        "df['salary'] = df['salary'].fillna(df['salary'].median())\n",
        "\n",
        "# Fill missing values in 'city' column with the mode (most frequent value)\n",
        "df['city'] = df['city'].fillna(df['city'].mode()[0])\n",
        "\n",
        "# Step 3.2: Dropping Rows with Missing Values\n",
        "# Drop rows with missing values (if any)\n",
        "# df = df.dropna() # Uncomment this line if you want to drop rows with missing values\n",
        "\n",
        "# Step 4: Display the updated DataFrame\n",
        "print(\"\\nDataFrame after Handling Missing Values:\")\n",
        "print(df)\n",
        "\n",
        "# Step 5: Check for missing values again\n",
        "print(\"\\nMissing Values after Handling:\")\n",
        "print(df.isnull().sum())"
      ]
    }
  ]
}
