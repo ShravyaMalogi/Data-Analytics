{
  "nbformat": 4,
  "nbformat_minor": 0,
  "metadata": {
    "colab": {
      "provenance": [],
      "authorship_tag": "ABX9TyOulDAzhbK3AHK8N5Ex/f3x",
      "include_colab_link": true
    },
    "kernelspec": {
      "name": "python3",
      "display_name": "Python 3"
    },
    "language_info": {
      "name": "python"
    }
  },
  "cells": [
    {
      "cell_type": "markdown",
      "metadata": {
        "id": "view-in-github",
        "colab_type": "text"
      },
      "source": [
        "<a href=\"https://colab.research.google.com/github/ShravyaMalogi/Data-Analytics/blob/main/03_Data_Preprocessing_in_Identifying_data__redundancy_and_elimination.ipynb\" target=\"_parent\"><img src=\"https://colab.research.google.com/assets/colab-badge.svg\" alt=\"Open In Colab\"/></a>"
      ]
    },
    {
      "cell_type": "code",
      "source": [
        "import pandas as pd\n",
        "\n",
        "# Step 1: Create a sample DataFrame with redundant data (duplicate rows and columns)\n",
        "data = {\n",
        "    'name': ['John', 'Anna', 'John', 'Peter', 'Anna'],\n",
        "    'age': [25, 30, 25, 22, 30],\n",
        "    'salary': [50000, 60000, 50000, 40000, 60000],\n",
        "    'city': ['New York', 'Los Angeles', 'New York', 'Chicago', 'Los Angeles'],\n",
        "    'name_duplicate': ['John', 'Anna', 'John', 'Peter', 'Anna'],  # Redundant column\n",
        "}\n",
        "\n",
        "df = pd.DataFrame(data)\n",
        "\n",
        "# Display the original DataFrame with redundancy\n",
        "print(\"Step 1: Original DataFrame with Redundancy:\")\n",
        "print(df)\n",
        "\n",
        "# Step 2: Identifying Duplicate Rows\n",
        "duplicate_rows = df.duplicated()  # Check for duplicate rows\n",
        "print(\"\\nStep 2: Identified Duplicate Rows (Boolean Mask):\")\n",
        "print(duplicate_rows)\n",
        "\n",
        "# Step 3: Removing Duplicate Rows\n",
        "df_no_duplicates = df.drop_duplicates()\n",
        "print(\"\\nStep 3: DataFrame After Removing Duplicate Rows:\")\n",
        "print(df_no_duplicates)\n",
        "\n",
        "# Step 4: Identifying Redundant Columns\n",
        "# Manually check for duplicate column names and data\n",
        "redundant_columns = []\n",
        "for col in df_no_duplicates.columns:\n",
        "    for other_col in df_no_duplicates.columns:\n",
        "        if col != other_col and df_no_duplicates[col].equals(df_no_duplicates[other_col]):\n",
        "            redundant_columns.append(other_col)\n",
        "\n",
        "redundant_columns = list(set(redundant_columns))  # Remove duplicates from the list\n",
        "\n",
        "print(\"\\nStep 4: Identified Redundant Columns:\", redundant_columns)\n",
        "\n",
        "# Step 5: Removing Redundant Columns\n",
        "df_cleaned = df_no_duplicates.drop(columns=redundant_columns)\n",
        "print(\"\\nStep 5: DataFrame After Removing Redundant Columns:\")\n",
        "print(df_cleaned)\n",
        "\n",
        "# Step 6: Reset Index after dropping rows/columns\n",
        "df_cleaned_reset = df_cleaned.reset_index(drop=True)\n",
        "print(\"\\nStep 6: DataFrame After Resetting Index:\")\n",
        "print(df_cleaned_reset)"
      ],
      "metadata": {
        "colab": {
          "base_uri": "https://localhost:8080/"
        },
        "id": "fUazOtPcQN8z",
        "outputId": "0201efb0-fb1a-46bd-ec81-33d443d3bb40"
      },
      "execution_count": 10,
      "outputs": [
        {
          "output_type": "stream",
          "name": "stdout",
          "text": [
            "Step 1: Original DataFrame with Redundancy:\n",
            "    name  age  salary         city name_duplicate\n",
            "0   John   25   50000     New York           John\n",
            "1   Anna   30   60000  Los Angeles           Anna\n",
            "2   John   25   50000     New York           John\n",
            "3  Peter   22   40000      Chicago          Peter\n",
            "4   Anna   30   60000  Los Angeles           Anna\n",
            "\n",
            "Step 2: Identified Duplicate Rows (Boolean Mask):\n",
            "0    False\n",
            "1    False\n",
            "2     True\n",
            "3    False\n",
            "4     True\n",
            "dtype: bool\n",
            "\n",
            "Step 3: DataFrame After Removing Duplicate Rows:\n",
            "    name  age  salary         city name_duplicate\n",
            "0   John   25   50000     New York           John\n",
            "1   Anna   30   60000  Los Angeles           Anna\n",
            "3  Peter   22   40000      Chicago          Peter\n",
            "\n",
            "Step 4: Identified Redundant Columns: ['name', 'name_duplicate']\n",
            "\n",
            "Step 5: DataFrame After Removing Redundant Columns:\n",
            "   age  salary         city\n",
            "0   25   50000     New York\n",
            "1   30   60000  Los Angeles\n",
            "3   22   40000      Chicago\n",
            "\n",
            "Step 6: DataFrame After Resetting Index:\n",
            "   age  salary         city\n",
            "0   25   50000     New York\n",
            "1   30   60000  Los Angeles\n",
            "2   22   40000      Chicago\n"
          ]
        }
      ]
    }
  ]
}